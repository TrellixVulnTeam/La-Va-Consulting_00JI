{
 "cells": [
  {
   "cell_type": "code",
   "execution_count": 1,
   "metadata": {},
   "outputs": [],
   "source": [
    "import mysql.connector\n",
    "from mysql.connector import Error"
   ]
  },
  {
   "cell_type": "code",
   "execution_count": 2,
   "metadata": {},
   "outputs": [],
   "source": [
    "# Connect to server\n",
    "cnx = mysql.connector.connect(\n",
    "    host=\"127.0.0.1\",\n",
    "    port=3306,\n",
    "    user = \"root\",\n",
    "    password = \"vanessa\",\n",
    "    autocommit = True\n",
    ")"
   ]
  },
  {
   "cell_type": "code",
   "execution_count": 3,
   "metadata": {},
   "outputs": [],
   "source": [
    "# Get a cursor\n",
    "cursor = cnx.cursor()"
   ]
  },
  {
   "cell_type": "code",
   "execution_count": 4,
   "metadata": {},
   "outputs": [],
   "source": [
    "def run_query(query, fetch = True): \n",
    "    # Execute a query\n",
    "    cursor.execute(query)\n",
    "    if fetch:\n",
    "        # Fetch all results\n",
    "        records = cursor.fetchall()\n",
    "        return records"
   ]
  },
  {
   "cell_type": "code",
   "execution_count": 5,
   "metadata": {},
   "outputs": [
    {
     "data": {
      "text/plain": [
       "[('information_schema',),\n",
       " ('mysql',),\n",
       " ('performance_schema',),\n",
       " ('surgeries_db',),\n",
       " ('sys',)]"
      ]
     },
     "execution_count": 5,
     "metadata": {},
     "output_type": "execute_result"
    }
   ],
   "source": [
    "run_query(\"Show databases\")"
   ]
  },
  {
   "cell_type": "code",
   "execution_count": 6,
   "metadata": {},
   "outputs": [
    {
     "data": {
      "text/plain": [
       "[('insurances',), ('patients',), ('surgeries',)]"
      ]
     },
     "execution_count": 6,
     "metadata": {},
     "output_type": "execute_result"
    }
   ],
   "source": [
    "run_query(\"Show tables from surgeries_db\")"
   ]
  },
  {
   "cell_type": "code",
   "execution_count": 7,
   "metadata": {},
   "outputs": [],
   "source": [
    "sql_Delete_query = \"\"\"Delete from surgeries_db.insurances where id IN (5,6)\"\"\"\n",
    "run_query(sql_Delete_query, fetch = False)"
   ]
  },
  {
   "cell_type": "code",
   "execution_count": 8,
   "metadata": {},
   "outputs": [],
   "source": [
    "#run_query(\"\"\"\n",
    "#INSERT INTO surgeries_db.insurances (name)\n",
    "#VALUES (\"Barmer\");\n",
    "#\"\"\", fetch = False)"
   ]
  },
  {
   "cell_type": "code",
   "execution_count": 9,
   "metadata": {},
   "outputs": [
    {
     "data": {
      "text/plain": [
       "[(1, 'Barmer'), (2, 'DAK Gesundheit')]"
      ]
     },
     "execution_count": 9,
     "metadata": {},
     "output_type": "execute_result"
    }
   ],
   "source": [
    "run_query(\"Select * from surgeries_db.insurances\")"
   ]
  },
  {
   "cell_type": "code",
   "execution_count": 10,
   "metadata": {},
   "outputs": [],
   "source": [
    "#run_query(\"\"\"\n",
    "#INSERT INTO surgeries_db.patients (name, date_birth, age, gender, insurance_id)\n",
    "#VALUES (\"Dennis Kipping\", \"1997-06-13\", 23, \"male\", 3);\n",
    "#\"\"\", fetch = False)"
   ]
  },
  {
   "cell_type": "code",
   "execution_count": 11,
   "metadata": {},
   "outputs": [
    {
     "data": {
      "text/plain": [
       "[(1, 'Dennis Kipping', datetime.date(1997, 6, 13), 23, 'male', 3),\n",
       " (2, 'Connie Cardenas', datetime.date(1998, 8, 14), 22, 'female', 0)]"
      ]
     },
     "execution_count": 11,
     "metadata": {},
     "output_type": "execute_result"
    }
   ],
   "source": [
    "run_query(\"Select * from surgeries_db.patients\")"
   ]
  },
  {
   "cell_type": "code",
   "execution_count": 12,
   "metadata": {},
   "outputs": [],
   "source": [
    "#run_query(\"\"\"\n",
    "#INSERT INTO surgeries_db.surgeries (name, side, doctor, date, check_list, outcome, pictures, comments, patient_id)\n",
    "#VALUES (\"Appendectomy\", \"none\", \"Dr. Masanneck\", \"2020-04-01\", \"available\", \"recovery room\", [], \"This chapter provides an overview and more detailed description of the properties of the types in each category, and a summary of the data type storage requirements. The initial overviews are intentionally brief. Consult the more detailed descriptions for additional information about particular data types, such as the permissible formats in which you can specify values\", 1);\n",
    "#\"\"\", fetch = False)"
   ]
  },
  {
   "cell_type": "code",
   "execution_count": 13,
   "metadata": {},
   "outputs": [
    {
     "data": {
      "text/plain": [
       "[(1,\n",
       "  'Appendectomy',\n",
       "  'none',\n",
       "  'Dr. Masanneck',\n",
       "  datetime.date(2020, 4, 1),\n",
       "  'available',\n",
       "  'recovery room',\n",
       "  None,\n",
       "  'everything good',\n",
       "  1),\n",
       " (2,\n",
       "  'Cesarean section',\n",
       "  'none',\n",
       "  'Dr. Braun',\n",
       "  datetime.date(2019, 5, 1),\n",
       "  'available',\n",
       "  'recovery room',\n",
       "  None,\n",
       "  'everything good',\n",
       "  2)]"
      ]
     },
     "execution_count": 13,
     "metadata": {},
     "output_type": "execute_result"
    }
   ],
   "source": [
    "run_query(\"Select * from surgeries_db.surgeries\")"
   ]
  },
  {
   "cell_type": "code",
   "execution_count": 14,
   "metadata": {},
   "outputs": [],
   "source": [
    "# Close connection\n",
    "#cnx.close()"
   ]
  },
  {
   "cell_type": "code",
   "execution_count": null,
   "metadata": {},
   "outputs": [],
   "source": []
  }
 ],
 "metadata": {
  "kernelspec": {
   "display_name": "Python 3",
   "language": "python",
   "name": "python3"
  },
  "language_info": {
   "codemirror_mode": {
    "name": "ipython",
    "version": 3
   },
   "file_extension": ".py",
   "mimetype": "text/x-python",
   "name": "python",
   "nbconvert_exporter": "python",
   "pygments_lexer": "ipython3",
   "version": "3.8.5"
  }
 },
 "nbformat": 4,
 "nbformat_minor": 4
}
